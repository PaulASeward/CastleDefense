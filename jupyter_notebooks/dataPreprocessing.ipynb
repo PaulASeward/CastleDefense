{
 "cells": [
  {
   "cell_type": "code",
   "execution_count": 17,
   "id": "initial_id",
   "metadata": {
    "collapsed": true,
    "ExecuteTime": {
     "end_time": "2023-11-27T20:33:41.955385356Z",
     "start_time": "2023-11-27T20:33:31.675612541Z"
    }
   },
   "outputs": [
    {
     "name": "stdout",
     "output_type": "stream",
     "text": [
      "Length of tracking_df:  12187398\n",
      "Length of tackles_df:  17426\n",
      "Length of plays_df:  12486\n"
     ]
    }
   ],
   "source": [
    "import os\n",
    "import pandas as pd\n",
    "from CastleDefense.data_analysis.preprocessing_data import get_combined_tracking_data, get_tackles_data, get_plays_data\n",
    "\n",
    "tracking_df = get_combined_tracking_data()\n",
    "tackles_df = get_tackles_data()\n",
    "plays_df = get_plays_data()\n",
    "\n",
    "print('Length of tracking_df: ', len(tracking_df))\n",
    "print('Length of tackles_df: ', len(tackles_df))\n",
    "print('Length of plays_df: ', len(plays_df))"
   ]
  },
  {
   "cell_type": "code",
   "execution_count": 2,
   "outputs": [
    {
     "data": {
      "text/plain": "       gameId  playId    nflId     displayName  frameId  \\\n0  2022090800      56  35472.0  Rodger Saffold        1   \n1  2022090800      56  35472.0  Rodger Saffold        2   \n2  2022090800      56  35472.0  Rodger Saffold        3   \n3  2022090800      56  35472.0  Rodger Saffold        4   \n4  2022090800      56  35472.0  Rodger Saffold        5   \n\n                         time  jerseyNumber club playDirection      x      y  \\\n0  2022-09-08 20:24:05.200000          76.0  BUF          left  88.37  27.27   \n1  2022-09-08 20:24:05.299999          76.0  BUF          left  88.47  27.13   \n2  2022-09-08 20:24:05.400000          76.0  BUF          left  88.56  27.01   \n3  2022-09-08 20:24:05.500000          76.0  BUF          left  88.64  26.90   \n4  2022-09-08 20:24:05.599999          76.0  BUF          left  88.72  26.80   \n\n      s     a   dis       o     dir         event  made_tackle  \n0  1.62  1.15  0.16  231.74  147.90           NaN            0  \n1  1.67  0.61  0.17  230.98  148.53  pass_arrived            0  \n2  1.57  0.49  0.15  230.98  147.05           NaN            0  \n3  1.44  0.89  0.14  232.38  145.42           NaN            0  \n4  1.29  1.24  0.13  233.36  141.95           NaN            0  ",
      "text/html": "<div>\n<style scoped>\n    .dataframe tbody tr th:only-of-type {\n        vertical-align: middle;\n    }\n\n    .dataframe tbody tr th {\n        vertical-align: top;\n    }\n\n    .dataframe thead th {\n        text-align: right;\n    }\n</style>\n<table border=\"1\" class=\"dataframe\">\n  <thead>\n    <tr style=\"text-align: right;\">\n      <th></th>\n      <th>gameId</th>\n      <th>playId</th>\n      <th>nflId</th>\n      <th>displayName</th>\n      <th>frameId</th>\n      <th>time</th>\n      <th>jerseyNumber</th>\n      <th>club</th>\n      <th>playDirection</th>\n      <th>x</th>\n      <th>y</th>\n      <th>s</th>\n      <th>a</th>\n      <th>dis</th>\n      <th>o</th>\n      <th>dir</th>\n      <th>event</th>\n      <th>made_tackle</th>\n    </tr>\n  </thead>\n  <tbody>\n    <tr>\n      <th>0</th>\n      <td>2022090800</td>\n      <td>56</td>\n      <td>35472.0</td>\n      <td>Rodger Saffold</td>\n      <td>1</td>\n      <td>2022-09-08 20:24:05.200000</td>\n      <td>76.0</td>\n      <td>BUF</td>\n      <td>left</td>\n      <td>88.37</td>\n      <td>27.27</td>\n      <td>1.62</td>\n      <td>1.15</td>\n      <td>0.16</td>\n      <td>231.74</td>\n      <td>147.90</td>\n      <td>NaN</td>\n      <td>0</td>\n    </tr>\n    <tr>\n      <th>1</th>\n      <td>2022090800</td>\n      <td>56</td>\n      <td>35472.0</td>\n      <td>Rodger Saffold</td>\n      <td>2</td>\n      <td>2022-09-08 20:24:05.299999</td>\n      <td>76.0</td>\n      <td>BUF</td>\n      <td>left</td>\n      <td>88.47</td>\n      <td>27.13</td>\n      <td>1.67</td>\n      <td>0.61</td>\n      <td>0.17</td>\n      <td>230.98</td>\n      <td>148.53</td>\n      <td>pass_arrived</td>\n      <td>0</td>\n    </tr>\n    <tr>\n      <th>2</th>\n      <td>2022090800</td>\n      <td>56</td>\n      <td>35472.0</td>\n      <td>Rodger Saffold</td>\n      <td>3</td>\n      <td>2022-09-08 20:24:05.400000</td>\n      <td>76.0</td>\n      <td>BUF</td>\n      <td>left</td>\n      <td>88.56</td>\n      <td>27.01</td>\n      <td>1.57</td>\n      <td>0.49</td>\n      <td>0.15</td>\n      <td>230.98</td>\n      <td>147.05</td>\n      <td>NaN</td>\n      <td>0</td>\n    </tr>\n    <tr>\n      <th>3</th>\n      <td>2022090800</td>\n      <td>56</td>\n      <td>35472.0</td>\n      <td>Rodger Saffold</td>\n      <td>4</td>\n      <td>2022-09-08 20:24:05.500000</td>\n      <td>76.0</td>\n      <td>BUF</td>\n      <td>left</td>\n      <td>88.64</td>\n      <td>26.90</td>\n      <td>1.44</td>\n      <td>0.89</td>\n      <td>0.14</td>\n      <td>232.38</td>\n      <td>145.42</td>\n      <td>NaN</td>\n      <td>0</td>\n    </tr>\n    <tr>\n      <th>4</th>\n      <td>2022090800</td>\n      <td>56</td>\n      <td>35472.0</td>\n      <td>Rodger Saffold</td>\n      <td>5</td>\n      <td>2022-09-08 20:24:05.599999</td>\n      <td>76.0</td>\n      <td>BUF</td>\n      <td>left</td>\n      <td>88.72</td>\n      <td>26.80</td>\n      <td>1.29</td>\n      <td>1.24</td>\n      <td>0.13</td>\n      <td>233.36</td>\n      <td>141.95</td>\n      <td>NaN</td>\n      <td>0</td>\n    </tr>\n  </tbody>\n</table>\n</div>"
     },
     "execution_count": 2,
     "metadata": {},
     "output_type": "execute_result"
    }
   ],
   "source": [
    "tracking_df.head()"
   ],
   "metadata": {
    "collapsed": false,
    "ExecuteTime": {
     "end_time": "2023-11-27T20:13:24.877436017Z",
     "start_time": "2023-11-27T20:13:24.861474072Z"
    }
   },
   "id": "48a8f3adb5873896"
  },
  {
   "cell_type": "code",
   "execution_count": 3,
   "outputs": [
    {
     "data": {
      "text/plain": "       gameId  playId  nflId  tackle  assist  forcedFumble  pff_missedTackle\n0  2022090800     101  42816       1       0             0                 0\n1  2022090800     393  46232       1       0             0                 0\n2  2022090800     486  40166       1       0             0                 0\n3  2022090800     646  47939       1       0             0                 0\n4  2022090800     818  40107       1       0             0                 0",
      "text/html": "<div>\n<style scoped>\n    .dataframe tbody tr th:only-of-type {\n        vertical-align: middle;\n    }\n\n    .dataframe tbody tr th {\n        vertical-align: top;\n    }\n\n    .dataframe thead th {\n        text-align: right;\n    }\n</style>\n<table border=\"1\" class=\"dataframe\">\n  <thead>\n    <tr style=\"text-align: right;\">\n      <th></th>\n      <th>gameId</th>\n      <th>playId</th>\n      <th>nflId</th>\n      <th>tackle</th>\n      <th>assist</th>\n      <th>forcedFumble</th>\n      <th>pff_missedTackle</th>\n    </tr>\n  </thead>\n  <tbody>\n    <tr>\n      <th>0</th>\n      <td>2022090800</td>\n      <td>101</td>\n      <td>42816</td>\n      <td>1</td>\n      <td>0</td>\n      <td>0</td>\n      <td>0</td>\n    </tr>\n    <tr>\n      <th>1</th>\n      <td>2022090800</td>\n      <td>393</td>\n      <td>46232</td>\n      <td>1</td>\n      <td>0</td>\n      <td>0</td>\n      <td>0</td>\n    </tr>\n    <tr>\n      <th>2</th>\n      <td>2022090800</td>\n      <td>486</td>\n      <td>40166</td>\n      <td>1</td>\n      <td>0</td>\n      <td>0</td>\n      <td>0</td>\n    </tr>\n    <tr>\n      <th>3</th>\n      <td>2022090800</td>\n      <td>646</td>\n      <td>47939</td>\n      <td>1</td>\n      <td>0</td>\n      <td>0</td>\n      <td>0</td>\n    </tr>\n    <tr>\n      <th>4</th>\n      <td>2022090800</td>\n      <td>818</td>\n      <td>40107</td>\n      <td>1</td>\n      <td>0</td>\n      <td>0</td>\n      <td>0</td>\n    </tr>\n  </tbody>\n</table>\n</div>"
     },
     "execution_count": 3,
     "metadata": {},
     "output_type": "execute_result"
    }
   ],
   "source": [
    "tackles_df.head()"
   ],
   "metadata": {
    "collapsed": false,
    "ExecuteTime": {
     "end_time": "2023-11-27T20:13:26.131072680Z",
     "start_time": "2023-11-27T20:13:26.123196945Z"
    }
   },
   "id": "9df551bdb02326fa"
  },
  {
   "cell_type": "code",
   "execution_count": 38,
   "outputs": [
    {
     "name": "stdout",
     "output_type": "stream",
     "text": [
      "Count of tackles:  9919\n",
      "Count of individual assists:  5494\n",
      "Count of tackles or assists:  15413\n",
      "Count of Plays:  12486\n"
     ]
    }
   ],
   "source": [
    "print('Count of tackles: ', len(tackles_df[tackles_df['tackle']==1]))\n",
    "print('Count of individual assists: ', len(tackles_df[tackles_df['assist']==1]))\n",
    "print('Count of tackles or assists: ', len(tackles_df[(tackles_df['tackle']==1) | (tackles_df['assist']==1)]))\n",
    "print('Count of Plays: ', len(plays_df))"
   ],
   "metadata": {
    "collapsed": false,
    "ExecuteTime": {
     "end_time": "2023-11-27T20:57:17.363765094Z",
     "start_time": "2023-11-27T20:57:17.323171089Z"
    }
   },
   "id": "c9439504f5f263ac"
  },
  {
   "cell_type": "code",
   "execution_count": 34,
   "outputs": [
    {
     "name": "stdout",
     "output_type": "stream",
     "text": [
      "       gameId  playId  tackle  assist\n",
      "0  2022090800      56       1       0\n",
      "1  2022090800      80       1       0\n",
      "2  2022090800     101       1       0\n",
      "3  2022090800     122       1       0\n",
      "4  2022090800     146       0       2\n",
      "Number of plays: 12025\n",
      "Number of plays with a tackle: 9918\n",
      "Number of plays without a tackle: 2107\n",
      "Number of plays with an assist: 3490\n",
      "Number of plays without an assist: 8535\n",
      "Number of plays with multiple assists: 2004\n"
     ]
    }
   ],
   "source": [
    "# Group by 'gameId' and 'playId' and sum the 'tackle' and 'assist' columns\n",
    "tackles_summary = tackles_df.groupby(['gameId', 'playId']).agg({\n",
    "    'tackle': 'sum',\n",
    "    'assist': 'sum'\n",
    "}).reset_index()\n",
    "\n",
    "# Display the summary\n",
    "print(tackles_summary.head())\n",
    "\n",
    "# Count the number of plays where a tackle or assist was made\n",
    "plays = len(tackles_summary)\n",
    "plays_with_tackle = len(tackles_summary[tackles_summary['tackle'] > 0])\n",
    "plays_without_tackle = len(tackles_summary[tackles_summary['tackle'] == 0])\n",
    "plays_with_assist = len(tackles_summary[tackles_summary['assist'] > 0])\n",
    "plays_without_assist = len(tackles_summary[tackles_summary['assist'] == 0])\n",
    "plays_with_multiple_assists = len(tackles_summary[tackles_summary['assist'] > 1]) \n",
    "\n",
    "print(f\"Number of plays in tackles_df: {plays}\")\n",
    "print(f\"Number of plays with a tackle: {plays_with_tackle}\")\n",
    "print(f\"Number of plays without a tackle: {plays_without_tackle}\")\n",
    "print(f\"Number of plays with at least one assist: {plays_with_assist}\")\n",
    "print(f\"Number of plays without an assist: {plays_without_assist}\")\n",
    "print(f\"Number of plays with multiple assists: {plays_with_multiple_assists}\")"
   ],
   "metadata": {
    "collapsed": false,
    "ExecuteTime": {
     "end_time": "2023-11-27T20:52:56.176030712Z",
     "start_time": "2023-11-27T20:52:56.134591971Z"
    }
   },
   "id": "3c5ad2edd683f34c"
  },
  {
   "cell_type": "code",
   "execution_count": null,
   "outputs": [],
   "source": [],
   "metadata": {
    "collapsed": false
   },
   "id": "f35b5fc77c9ce5ab"
  }
 ],
 "metadata": {
  "kernelspec": {
   "display_name": "Python 3",
   "language": "python",
   "name": "python3"
  },
  "language_info": {
   "codemirror_mode": {
    "name": "ipython",
    "version": 2
   },
   "file_extension": ".py",
   "mimetype": "text/x-python",
   "name": "python",
   "nbconvert_exporter": "python",
   "pygments_lexer": "ipython2",
   "version": "2.7.6"
  }
 },
 "nbformat": 4,
 "nbformat_minor": 5
}
