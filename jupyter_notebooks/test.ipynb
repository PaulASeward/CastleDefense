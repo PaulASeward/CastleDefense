{
 "cells": [
  {
   "cell_type": "code",
   "execution_count": 9,
   "id": "initial_id",
   "metadata": {
    "collapsed": true,
    "ExecuteTime": {
     "end_time": "2023-11-08T16:50:49.163918320Z",
     "start_time": "2023-11-08T16:50:49.119236234Z"
    }
   },
   "outputs": [
    {
     "name": "stdout",
     "output_type": "stream",
     "text": [
      "Hello Big Data Bowl.\n"
     ]
    }
   ],
   "source": [
    "print(\"Hello Big Data Bowl.\")"
   ]
  },
  {
   "cell_type": "markdown",
   "source": [
    "### Import Libraries"
   ],
   "metadata": {
    "collapsed": false
   },
   "id": "44c10ac5bc7a26f0"
  },
  {
   "cell_type": "code",
   "execution_count": 1,
   "outputs": [],
   "source": [
    "import pandas as pd\n",
    "import numpy as np\n",
    "import matplotlib.pyplot as plt\n",
    "import seaborn as sns\n",
    "import os"
   ],
   "metadata": {
    "collapsed": false,
    "ExecuteTime": {
     "end_time": "2023-11-12T21:28:08.680224790Z",
     "start_time": "2023-11-12T21:28:08.677068854Z"
    }
   },
   "id": "f1327d604652614a"
  },
  {
   "cell_type": "markdown",
   "source": [
    "Function Definitions for Loading Data"
   ],
   "metadata": {
    "collapsed": false
   },
   "id": "f4f72837bfb0b5a1"
  },
  {
   "cell_type": "code",
   "execution_count": 4,
   "outputs": [],
   "source": [
    "def load_play_data(play_id, week=1, game_id=2022090800):\n",
    "    data_path = os.path.join(os.path.abspath(os.path.join(os.getcwd(), '..', 'tracking_data')), 'tracking_week_' + str(week) + '.csv')\n",
    "    print(\"Loading data from: \", data_path)\n",
    "    week_df = pd.read_csv(data_path)\n",
    "    play_df = week_df[week_df['playId'] == play_id]\n",
    "    return play_df"
   ],
   "metadata": {
    "collapsed": false,
    "ExecuteTime": {
     "end_time": "2023-11-12T21:29:49.869608263Z",
     "start_time": "2023-11-12T21:29:49.828132451Z"
    }
   },
   "id": "d1f8b991f3becb02"
  },
  {
   "cell_type": "code",
   "execution_count": 5,
   "outputs": [
    {
     "name": "stdout",
     "output_type": "stream",
     "text": [
      "Loading data from:  /home/paul/castle-defense-repo/CastleDefense/tracking_data/tracking_week_1.csv\n",
      "Length Of play_df:  1794\n",
      "Approx Number of timesteps:  81\n"
     ]
    }
   ],
   "source": [
    "play_df = load_play_data(56)\n",
    "print(\"Length Of play_df: \", len(play_df))\n",
    "timesteps = len(play_df) // 22\n",
    "print(\"Approx Number of timesteps: \", timesteps)"
   ],
   "metadata": {
    "collapsed": false,
    "ExecuteTime": {
     "end_time": "2023-11-12T21:29:52.602327510Z",
     "start_time": "2023-11-12T21:29:51.048142901Z"
    }
   },
   "id": "d507f5304c261588"
  },
  {
   "cell_type": "code",
   "execution_count": 6,
   "outputs": [
    {
     "data": {
      "text/plain": "       gameId  playId    nflId     displayName  frameId  \\\n0  2022090800      56  35472.0  Rodger Saffold        1   \n1  2022090800      56  35472.0  Rodger Saffold        2   \n2  2022090800      56  35472.0  Rodger Saffold        3   \n3  2022090800      56  35472.0  Rodger Saffold        4   \n4  2022090800      56  35472.0  Rodger Saffold        5   \n\n                         time  jerseyNumber club playDirection      x      y  \\\n0  2022-09-08 20:24:05.200000          76.0  BUF          left  88.37  27.27   \n1  2022-09-08 20:24:05.299999          76.0  BUF          left  88.47  27.13   \n2  2022-09-08 20:24:05.400000          76.0  BUF          left  88.56  27.01   \n3  2022-09-08 20:24:05.500000          76.0  BUF          left  88.64  26.90   \n4  2022-09-08 20:24:05.599999          76.0  BUF          left  88.72  26.80   \n\n      s     a   dis       o     dir         event  \n0  1.62  1.15  0.16  231.74  147.90           NaN  \n1  1.67  0.61  0.17  230.98  148.53  pass_arrived  \n2  1.57  0.49  0.15  230.98  147.05           NaN  \n3  1.44  0.89  0.14  232.38  145.42           NaN  \n4  1.29  1.24  0.13  233.36  141.95           NaN  ",
      "text/html": "<div>\n<style scoped>\n    .dataframe tbody tr th:only-of-type {\n        vertical-align: middle;\n    }\n\n    .dataframe tbody tr th {\n        vertical-align: top;\n    }\n\n    .dataframe thead th {\n        text-align: right;\n    }\n</style>\n<table border=\"1\" class=\"dataframe\">\n  <thead>\n    <tr style=\"text-align: right;\">\n      <th></th>\n      <th>gameId</th>\n      <th>playId</th>\n      <th>nflId</th>\n      <th>displayName</th>\n      <th>frameId</th>\n      <th>time</th>\n      <th>jerseyNumber</th>\n      <th>club</th>\n      <th>playDirection</th>\n      <th>x</th>\n      <th>y</th>\n      <th>s</th>\n      <th>a</th>\n      <th>dis</th>\n      <th>o</th>\n      <th>dir</th>\n      <th>event</th>\n    </tr>\n  </thead>\n  <tbody>\n    <tr>\n      <th>0</th>\n      <td>2022090800</td>\n      <td>56</td>\n      <td>35472.0</td>\n      <td>Rodger Saffold</td>\n      <td>1</td>\n      <td>2022-09-08 20:24:05.200000</td>\n      <td>76.0</td>\n      <td>BUF</td>\n      <td>left</td>\n      <td>88.37</td>\n      <td>27.27</td>\n      <td>1.62</td>\n      <td>1.15</td>\n      <td>0.16</td>\n      <td>231.74</td>\n      <td>147.90</td>\n      <td>NaN</td>\n    </tr>\n    <tr>\n      <th>1</th>\n      <td>2022090800</td>\n      <td>56</td>\n      <td>35472.0</td>\n      <td>Rodger Saffold</td>\n      <td>2</td>\n      <td>2022-09-08 20:24:05.299999</td>\n      <td>76.0</td>\n      <td>BUF</td>\n      <td>left</td>\n      <td>88.47</td>\n      <td>27.13</td>\n      <td>1.67</td>\n      <td>0.61</td>\n      <td>0.17</td>\n      <td>230.98</td>\n      <td>148.53</td>\n      <td>pass_arrived</td>\n    </tr>\n    <tr>\n      <th>2</th>\n      <td>2022090800</td>\n      <td>56</td>\n      <td>35472.0</td>\n      <td>Rodger Saffold</td>\n      <td>3</td>\n      <td>2022-09-08 20:24:05.400000</td>\n      <td>76.0</td>\n      <td>BUF</td>\n      <td>left</td>\n      <td>88.56</td>\n      <td>27.01</td>\n      <td>1.57</td>\n      <td>0.49</td>\n      <td>0.15</td>\n      <td>230.98</td>\n      <td>147.05</td>\n      <td>NaN</td>\n    </tr>\n    <tr>\n      <th>3</th>\n      <td>2022090800</td>\n      <td>56</td>\n      <td>35472.0</td>\n      <td>Rodger Saffold</td>\n      <td>4</td>\n      <td>2022-09-08 20:24:05.500000</td>\n      <td>76.0</td>\n      <td>BUF</td>\n      <td>left</td>\n      <td>88.64</td>\n      <td>26.90</td>\n      <td>1.44</td>\n      <td>0.89</td>\n      <td>0.14</td>\n      <td>232.38</td>\n      <td>145.42</td>\n      <td>NaN</td>\n    </tr>\n    <tr>\n      <th>4</th>\n      <td>2022090800</td>\n      <td>56</td>\n      <td>35472.0</td>\n      <td>Rodger Saffold</td>\n      <td>5</td>\n      <td>2022-09-08 20:24:05.599999</td>\n      <td>76.0</td>\n      <td>BUF</td>\n      <td>left</td>\n      <td>88.72</td>\n      <td>26.80</td>\n      <td>1.29</td>\n      <td>1.24</td>\n      <td>0.13</td>\n      <td>233.36</td>\n      <td>141.95</td>\n      <td>NaN</td>\n    </tr>\n  </tbody>\n</table>\n</div>"
     },
     "execution_count": 6,
     "metadata": {},
     "output_type": "execute_result"
    }
   ],
   "source": [
    "play_df.head()  # Show first 6 rows"
   ],
   "metadata": {
    "collapsed": false,
    "ExecuteTime": {
     "end_time": "2023-11-12T21:32:35.555743440Z",
     "start_time": "2023-11-12T21:32:35.512186001Z"
    }
   },
   "id": "87d2cf6dd9f5fd5a"
  },
  {
   "cell_type": "code",
   "execution_count": 2,
   "outputs": [
    {
     "name": "stdout",
     "output_type": "stream",
     "text": [
      "   A  B\n",
      "0  1  4\n",
      "1  2  5\n",
      "2  3  6\n"
     ]
    },
    {
     "ename": "AttributeError",
     "evalue": "'DataFrame' object has no attribute 'append'",
     "output_type": "error",
     "traceback": [
      "\u001B[0;31m---------------------------------------------------------------------------\u001B[0m",
      "\u001B[0;31mAttributeError\u001B[0m                            Traceback (most recent call last)",
      "\u001B[0;32m/tmp/ipykernel_31895/3473647395.py\u001B[0m in \u001B[0;36m?\u001B[0;34m()\u001B[0m\n\u001B[1;32m      4\u001B[0m \u001B[0mdf\u001B[0m \u001B[0;34m=\u001B[0m \u001B[0mpd\u001B[0m\u001B[0;34m.\u001B[0m\u001B[0mDataFrame\u001B[0m\u001B[0;34m(\u001B[0m\u001B[0;34m{\u001B[0m\u001B[0;34m'A'\u001B[0m\u001B[0;34m:\u001B[0m \u001B[0;34m[\u001B[0m\u001B[0;36m1\u001B[0m\u001B[0;34m,\u001B[0m \u001B[0;36m2\u001B[0m\u001B[0;34m,\u001B[0m \u001B[0;36m3\u001B[0m\u001B[0;34m]\u001B[0m\u001B[0;34m,\u001B[0m \u001B[0;34m'B'\u001B[0m\u001B[0;34m:\u001B[0m \u001B[0;34m[\u001B[0m\u001B[0;36m4\u001B[0m\u001B[0;34m,\u001B[0m \u001B[0;36m5\u001B[0m\u001B[0;34m,\u001B[0m \u001B[0;36m6\u001B[0m\u001B[0;34m]\u001B[0m\u001B[0;34m}\u001B[0m\u001B[0;34m)\u001B[0m\u001B[0;34m\u001B[0m\u001B[0;34m\u001B[0m\u001B[0m\n\u001B[1;32m      5\u001B[0m \u001B[0mprint\u001B[0m\u001B[0;34m(\u001B[0m\u001B[0mdf\u001B[0m\u001B[0;34m)\u001B[0m\u001B[0;34m\u001B[0m\u001B[0;34m\u001B[0m\u001B[0m\n\u001B[1;32m      6\u001B[0m \u001B[0;34m\u001B[0m\u001B[0m\n\u001B[1;32m      7\u001B[0m \u001B[0;31m# Append a new row to the DataFrame\u001B[0m\u001B[0;34m\u001B[0m\u001B[0;34m\u001B[0m\u001B[0m\n\u001B[0;32m----> 8\u001B[0;31m \u001B[0mdf\u001B[0m \u001B[0;34m=\u001B[0m \u001B[0mdf\u001B[0m\u001B[0;34m.\u001B[0m\u001B[0mappend\u001B[0m\u001B[0;34m(\u001B[0m\u001B[0;34m{\u001B[0m\u001B[0;34m'A'\u001B[0m\u001B[0;34m:\u001B[0m \u001B[0;36m7\u001B[0m\u001B[0;34m,\u001B[0m \u001B[0;34m'B'\u001B[0m\u001B[0;34m:\u001B[0m \u001B[0;36m8\u001B[0m\u001B[0;34m}\u001B[0m\u001B[0;34m,\u001B[0m \u001B[0mignore_index\u001B[0m\u001B[0;34m=\u001B[0m\u001B[0;32mTrue\u001B[0m\u001B[0;34m)\u001B[0m\u001B[0;34m\u001B[0m\u001B[0;34m\u001B[0m\u001B[0m\n\u001B[0m\u001B[1;32m      9\u001B[0m \u001B[0mprint\u001B[0m\u001B[0;34m(\u001B[0m\u001B[0mdf\u001B[0m\u001B[0;34m)\u001B[0m\u001B[0;34m\u001B[0m\u001B[0;34m\u001B[0m\u001B[0m\n\u001B[1;32m     10\u001B[0m \u001B[0;34m\u001B[0m\u001B[0m\n",
      "\u001B[0;32m~/.local/lib/python3.10/site-packages/pandas/core/generic.py\u001B[0m in \u001B[0;36m?\u001B[0;34m(self, name)\u001B[0m\n\u001B[1;32m   6200\u001B[0m             \u001B[0;32mand\u001B[0m \u001B[0mname\u001B[0m \u001B[0;32mnot\u001B[0m \u001B[0;32min\u001B[0m \u001B[0mself\u001B[0m\u001B[0;34m.\u001B[0m\u001B[0m_accessors\u001B[0m\u001B[0;34m\u001B[0m\u001B[0;34m\u001B[0m\u001B[0m\n\u001B[1;32m   6201\u001B[0m             \u001B[0;32mand\u001B[0m \u001B[0mself\u001B[0m\u001B[0;34m.\u001B[0m\u001B[0m_info_axis\u001B[0m\u001B[0;34m.\u001B[0m\u001B[0m_can_hold_identifiers_and_holds_name\u001B[0m\u001B[0;34m(\u001B[0m\u001B[0mname\u001B[0m\u001B[0;34m)\u001B[0m\u001B[0;34m\u001B[0m\u001B[0;34m\u001B[0m\u001B[0m\n\u001B[1;32m   6202\u001B[0m         ):\n\u001B[1;32m   6203\u001B[0m             \u001B[0;32mreturn\u001B[0m \u001B[0mself\u001B[0m\u001B[0;34m[\u001B[0m\u001B[0mname\u001B[0m\u001B[0;34m]\u001B[0m\u001B[0;34m\u001B[0m\u001B[0;34m\u001B[0m\u001B[0m\n\u001B[0;32m-> 6204\u001B[0;31m         \u001B[0;32mreturn\u001B[0m \u001B[0mobject\u001B[0m\u001B[0;34m.\u001B[0m\u001B[0m__getattribute__\u001B[0m\u001B[0;34m(\u001B[0m\u001B[0mself\u001B[0m\u001B[0;34m,\u001B[0m \u001B[0mname\u001B[0m\u001B[0;34m)\u001B[0m\u001B[0;34m\u001B[0m\u001B[0;34m\u001B[0m\u001B[0m\n\u001B[0m",
      "\u001B[0;31mAttributeError\u001B[0m: 'DataFrame' object has no attribute 'append'"
     ]
    }
   ],
   "source": [
    "import pandas as pd\n",
    "\n",
    "# First DataFrame\n",
    "df = pd.DataFrame({'A': [1, 2, 3], 'B': [4, 5, 6]})\n",
    "print(df)\n",
    "\n",
    "# Append a new row to the DataFrame\n",
    "df = df.append({'A': 7, 'B': 8}, ignore_index=True)\n",
    "print(df)\n"
   ],
   "metadata": {
    "collapsed": false,
    "ExecuteTime": {
     "end_time": "2023-11-18T21:34:47.611550636Z",
     "start_time": "2023-11-18T21:34:47.594250579Z"
    }
   },
   "id": "3a633583a12e903e"
  },
  {
   "cell_type": "code",
   "execution_count": null,
   "outputs": [],
   "source": [],
   "metadata": {
    "collapsed": false
   },
   "id": "2ea88b9ac6840dd9"
  }
 ],
 "metadata": {
  "kernelspec": {
   "display_name": "Python 3",
   "language": "python",
   "name": "python3"
  },
  "language_info": {
   "codemirror_mode": {
    "name": "ipython",
    "version": 2
   },
   "file_extension": ".py",
   "mimetype": "text/x-python",
   "name": "python",
   "nbconvert_exporter": "python",
   "pygments_lexer": "ipython2",
   "version": "2.7.6"
  }
 },
 "nbformat": 4,
 "nbformat_minor": 5
}
